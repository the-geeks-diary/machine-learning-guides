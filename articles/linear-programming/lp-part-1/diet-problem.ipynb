{
 "cells": [
  {
   "attachments": {},
   "cell_type": "markdown",
   "metadata": {},
   "source": [
    "## Import Libraries and LP functions"
   ]
  },
  {
   "cell_type": "code",
   "execution_count": 1,
   "metadata": {},
   "outputs": [],
   "source": [
    "from pulp import LpProblem, LpMinimize, LpVariable, lpSum, LpStatus, LpContinuous, PULP_CBC_CMD"
   ]
  },
  {
   "attachments": {},
   "cell_type": "markdown",
   "metadata": {},
   "source": [
    "### Define Problem & Objective\n",
    "\n",
    "We will create a new problem with objective to minimize\n",
    "\n",
    "By convention the first entry to the problem object is the linear equation for objective, our objective is comprised of 2 variables, units (in pounds) of steak and peanut butter so we need to define these variables as well.\n",
    "We will create a function to create the objective for our problem. "
   ]
  },
  {
   "cell_type": "code",
   "execution_count": 2,
   "metadata": {},
   "outputs": [],
   "source": [
    "def define_problem_objective(steak_price: float, peanut_butter_price: float):\n",
    "    problem = LpProblem(name=\"DietProblem\", sense=LpMinimize)\n",
    "    S = LpVariable(name = \"Steak_In_Pounds\", lowBound = 0, cat = LpContinuous)\n",
    "    P = LpVariable(name = \"Peanut_Butter_In_Pounds\", lowBound = 0, cat = LpContinuous)\n",
    "    problem += (steak_price*S) + (peanut_butter_price * P), \"MinimizeCost\"\n",
    "    return (problem, S, P)"
   ]
  },
  {
   "attachments": {},
   "cell_type": "markdown",
   "metadata": {},
   "source": [
    "### Add Constraints\n",
    "\n",
    "Our 2 main constraints are:\n",
    "\n",
    "* Proteins: total protein intake for the user should not be less than 4 units\n",
    "* Steak and Peanut butter in pound units should not be less than 0"
   ]
  },
  {
   "cell_type": "code",
   "execution_count": 3,
   "metadata": {},
   "outputs": [],
   "source": [
    "def add_constraints(problem: LpProblem, S: LpVariable, P: LpVariable):\n",
    "    problem += (2*S) + P >= 4, \"MinimumProteinIntake\"\n",
    "    problem += S >= 0, \"MinimumSteakQuantity\"\n",
    "    problem += P >= 0, \"MinimumPeanutButterQuantity\""
   ]
  },
  {
   "attachments": {},
   "cell_type": "markdown",
   "metadata": {},
   "source": [
    "### Solve The Problem\n",
    "\n",
    "Now we are ready to solve the problem and see the results at the following price points:\n",
    "\n",
    "|Steak (price in dollars per pound)   | Peanut Butter (price in dollars per pound)|\n",
    "|------------------------------------:|------------------------------------------:|\n",
    "| 3                                   | 2                                         |\n",
    "| 4                                   | 3                                         |\n",
    "| 4                                   | 2.5                                       |\n",
    "| 12                                  | 2                                         |\n",
    "| 10                                  | 3                                         |"
   ]
  },
  {
   "cell_type": "code",
   "execution_count": 7,
   "metadata": {},
   "outputs": [
    {
     "name": "stdout",
     "output_type": "stream",
     "text": [
      "\n",
      "****************************************************\n",
      "Steak Price: 3 | Peanut Butter Price: 2\n",
      "Status of solution is: Optimal\n",
      "Optimal cost per day is: $6.0\n",
      "Steak (in pounds): 2.0\n",
      "Peanut Butter (in pounds): 0.0\n",
      "\n",
      "****************************************************\n",
      "Steak Price: 4 | Peanut Butter Price: 2\n",
      "Status of solution is: Optimal\n",
      "Optimal cost per day is: $8.0\n",
      "Steak (in pounds): 2.0\n",
      "Peanut Butter (in pounds): 0.0\n",
      "\n",
      "****************************************************\n",
      "Steak Price: 4 | Peanut Butter Price: 2.5\n",
      "Status of solution is: Optimal\n",
      "Optimal cost per day is: $8.0\n",
      "Steak (in pounds): 2.0\n",
      "Peanut Butter (in pounds): 0.0\n",
      "\n",
      "****************************************************\n",
      "Steak Price: 12 | Peanut Butter Price: 2\n",
      "Status of solution is: Optimal\n",
      "Optimal cost per day is: $8.0\n",
      "Steak (in pounds): 0.0\n",
      "Peanut Butter (in pounds): 4.0\n",
      "\n",
      "****************************************************\n",
      "Steak Price: 10 | Peanut Butter Price: 3\n",
      "Status of solution is: Optimal\n",
      "Optimal cost per day is: $12.0\n",
      "Steak (in pounds): 0.0\n",
      "Peanut Butter (in pounds): 4.0\n"
     ]
    }
   ],
   "source": [
    "prices = [(3,2), (4,2), (4,2.5), (12, 2), (10,3)]\n",
    "\n",
    "for steak_price, peanut_butter_price in prices:\n",
    "    print(\"\\n****************************************************\")\n",
    "    print(f\"Steak Price: {steak_price} | Peanut Butter Price: {peanut_butter_price}\")\n",
    "    problem, steak, peanut_butter = define_problem_objective(steak_price, peanut_butter_price)\n",
    "    add_constraints(problem, steak, peanut_butter)\n",
    "    problem.solve(PULP_CBC_CMD(msg=0))\n",
    "    print(f\"Status of solution is: {LpStatus[problem.status]}\")\n",
    "    print(f\"Optimal cost per day is: ${problem.objective.value()}\")\n",
    "    print(f\"Steak (in pounds): {steak.value()}\")\n",
    "    print(f\"Peanut Butter (in pounds): {peanut_butter.value()}\")"
   ]
  }
 ],
 "metadata": {
  "kernelspec": {
   "display_name": "Python 3 (ipykernel)",
   "language": "python",
   "name": "python3"
  },
  "language_info": {
   "codemirror_mode": {
    "name": "ipython",
    "version": 3
   },
   "file_extension": ".py",
   "mimetype": "text/x-python",
   "name": "python",
   "nbconvert_exporter": "python",
   "pygments_lexer": "ipython3",
   "version": "3.10.9"
  },
  "vscode": {
   "interpreter": {
    "hash": "b7f8f196a3bad37593b3c448a27efc9c241e63f112b142adaad8619f3ee01553"
   }
  }
 },
 "nbformat": 4,
 "nbformat_minor": 2
}
