{
 "cells": [
  {
   "cell_type": "markdown",
   "id": "04141229",
   "metadata": {},
   "source": [
    "# Load Libraries and Data\n",
    "\n",
    "- Import Tensorflow\n",
    "- Import Sklearn Iris Dataset\n",
    "- Import ```train_test_split``` function from sklearn"
   ]
  },
  {
   "cell_type": "code",
   "execution_count": 1,
   "id": "1a414a2f",
   "metadata": {},
   "outputs": [
    {
     "name": "stderr",
     "output_type": "stream",
     "text": [
      "2023-03-23 17:05:43.906498: I tensorflow/core/platform/cpu_feature_guard.cc:193] This TensorFlow binary is optimized with oneAPI Deep Neural Network Library (oneDNN) to use the following CPU instructions in performance-critical operations:  AVX2 FMA\n",
      "To enable them in other operations, rebuild TensorFlow with the appropriate compiler flags.\n",
      "2023-03-23 17:05:46.758847: W tensorflow/compiler/xla/stream_executor/platform/default/dso_loader.cc:64] Could not load dynamic library 'libnvinfer.so.7'; dlerror: libnvinfer.so.7: cannot open shared object file: No such file or directory; LD_LIBRARY_PATH: /usr/local/cuda/extras/CUPTI/lib64:/usr/local/cuda/compat/lib:/usr/local/nvidia/lib:/usr/local/nvidia/lib64\n",
      "2023-03-23 17:05:46.759036: W tensorflow/compiler/xla/stream_executor/platform/default/dso_loader.cc:64] Could not load dynamic library 'libnvinfer_plugin.so.7'; dlerror: libnvinfer_plugin.so.7: cannot open shared object file: No such file or directory; LD_LIBRARY_PATH: /usr/local/cuda/extras/CUPTI/lib64:/usr/local/cuda/compat/lib:/usr/local/nvidia/lib:/usr/local/nvidia/lib64\n",
      "2023-03-23 17:05:46.759046: W tensorflow/compiler/tf2tensorrt/utils/py_utils.cc:38] TF-TRT Warning: Cannot dlopen some TensorRT libraries. If you would like to use Nvidia GPU with TensorRT, please make sure the missing libraries mentioned above are installed properly.\n"
     ]
    }
   ],
   "source": [
    "import tensorflow as tf\n",
    "from sklearn.datasets import load_iris\n",
    "from sklearn.model_selection import train_test_split\n",
    "\n",
    "# Load the Iris dataset\n",
    "iris = load_iris()\n",
    "\n",
    "# Split the data into training and testing sets\n",
    "X_train, X_test, y_train, y_test = train_test_split(iris.data, iris.target, test_size=0.2, random_state=42)"
   ]
  },
  {
   "cell_type": "markdown",
   "id": "07f54529",
   "metadata": {},
   "source": [
    "# Create a simple Sequential Model\n",
    "\n",
    "- It's a sequential model\n",
    "- There are 2 layers\n",
    "- first is the input layer with 10 nuerons and the input shape is (4,) representing the 4 inputs (red green blue and alpha channel of pixels. activation function is ```relu```.\n",
    "- second layer is the output layer with only 1 neuron and the activation function is ```sigmoid```"
   ]
  },
  {
   "cell_type": "code",
   "execution_count": 2,
   "id": "f6288cf5",
   "metadata": {},
   "outputs": [
    {
     "name": "stderr",
     "output_type": "stream",
     "text": [
      "2023-03-23 17:05:54.990947: I tensorflow/compiler/xla/stream_executor/cuda/cuda_gpu_executor.cc:967] could not open file to read NUMA node: /sys/bus/pci/devices/0000:41:00.0/numa_node\n",
      "Your kernel may have been built without NUMA support.\n",
      "2023-03-23 17:05:55.421570: I tensorflow/compiler/xla/stream_executor/cuda/cuda_gpu_executor.cc:967] could not open file to read NUMA node: /sys/bus/pci/devices/0000:41:00.0/numa_node\n",
      "Your kernel may have been built without NUMA support.\n",
      "2023-03-23 17:05:55.422087: I tensorflow/compiler/xla/stream_executor/cuda/cuda_gpu_executor.cc:967] could not open file to read NUMA node: /sys/bus/pci/devices/0000:41:00.0/numa_node\n",
      "Your kernel may have been built without NUMA support.\n",
      "2023-03-23 17:05:55.424050: I tensorflow/core/platform/cpu_feature_guard.cc:193] This TensorFlow binary is optimized with oneAPI Deep Neural Network Library (oneDNN) to use the following CPU instructions in performance-critical operations:  AVX2 FMA\n",
      "To enable them in other operations, rebuild TensorFlow with the appropriate compiler flags.\n",
      "2023-03-23 17:05:55.488087: I tensorflow/compiler/xla/stream_executor/cuda/cuda_gpu_executor.cc:967] could not open file to read NUMA node: /sys/bus/pci/devices/0000:41:00.0/numa_node\n",
      "Your kernel may have been built without NUMA support.\n",
      "2023-03-23 17:05:55.488669: I tensorflow/compiler/xla/stream_executor/cuda/cuda_gpu_executor.cc:967] could not open file to read NUMA node: /sys/bus/pci/devices/0000:41:00.0/numa_node\n",
      "Your kernel may have been built without NUMA support.\n",
      "2023-03-23 17:05:55.489346: I tensorflow/compiler/xla/stream_executor/cuda/cuda_gpu_executor.cc:967] could not open file to read NUMA node: /sys/bus/pci/devices/0000:41:00.0/numa_node\n",
      "Your kernel may have been built without NUMA support.\n",
      "2023-03-23 17:05:57.612465: I tensorflow/compiler/xla/stream_executor/cuda/cuda_gpu_executor.cc:967] could not open file to read NUMA node: /sys/bus/pci/devices/0000:41:00.0/numa_node\n",
      "Your kernel may have been built without NUMA support.\n",
      "2023-03-23 17:05:57.612964: I tensorflow/compiler/xla/stream_executor/cuda/cuda_gpu_executor.cc:967] could not open file to read NUMA node: /sys/bus/pci/devices/0000:41:00.0/numa_node\n",
      "Your kernel may have been built without NUMA support.\n",
      "2023-03-23 17:05:57.612981: I tensorflow/core/common_runtime/gpu/gpu_device.cc:1700] Could not identify NUMA node of platform GPU id 0, defaulting to 0.  Your kernel may not have been built with NUMA support.\n",
      "2023-03-23 17:05:57.613319: I tensorflow/compiler/xla/stream_executor/cuda/cuda_gpu_executor.cc:967] could not open file to read NUMA node: /sys/bus/pci/devices/0000:41:00.0/numa_node\n",
      "Your kernel may have been built without NUMA support.\n",
      "2023-03-23 17:05:57.613576: I tensorflow/core/common_runtime/gpu/gpu_device.cc:1613] Created device /job:localhost/replica:0/task:0/device:GPU:0 with 6109 MB memory:  -> device: 0, name: NVIDIA GeForce RTX 2070, pci bus id: 0000:41:00.0, compute capability: 7.5\n"
     ]
    }
   ],
   "source": [
    "model = tf.keras.Sequential([\n",
    "  tf.keras.layers.Dense(10, activation='relu', input_shape=(4,)),\n",
    "  tf.keras.layers.Dense(1, activation='sigmoid')\n",
    "])"
   ]
  },
  {
   "cell_type": "markdown",
   "id": "89b98e37",
   "metadata": {},
   "source": [
    "# Compile\n",
    "\n",
    "- Next, let's compile our model and specify the loss function, optimizer, and evaluation metric"
   ]
  },
  {
   "cell_type": "code",
   "execution_count": 3,
   "id": "ecb4f341",
   "metadata": {},
   "outputs": [],
   "source": [
    "model.compile(loss='binary_crossentropy', optimizer='adam', metrics=['accuracy'])"
   ]
  },
  {
   "cell_type": "markdown",
   "id": "0a53b761",
   "metadata": {},
   "source": [
    "# Fit Training\n",
    "\n",
    "- train our model for 50 epochs\n",
    "- use a validation split of 0.2\n",
    "- a history object, which contains information about the training process, such as the loss and accuracy at each epoch."
   ]
  },
  {
   "cell_type": "code",
   "execution_count": 4,
   "id": "11c82d14",
   "metadata": {},
   "outputs": [
    {
     "name": "stdout",
     "output_type": "stream",
     "text": [
      "Epoch 1/50\n"
     ]
    },
    {
     "name": "stderr",
     "output_type": "stream",
     "text": [
      "2023-03-23 17:06:09.554727: I tensorflow/compiler/xla/service/service.cc:173] XLA service 0x7f60f8d15540 initialized for platform CUDA (this does not guarantee that XLA will be used). Devices:\n",
      "2023-03-23 17:06:09.554802: I tensorflow/compiler/xla/service/service.cc:181]   StreamExecutor device (0): NVIDIA GeForce RTX 2070, Compute Capability 7.5\n",
      "2023-03-23 17:06:09.595194: I tensorflow/compiler/mlir/tensorflow/utils/dump_mlir_util.cc:268] disabling MLIR crash reproducer, set env var `MLIR_CRASH_REPRODUCER_DIRECTORY` to enable.\n",
      "2023-03-23 17:06:10.350001: I tensorflow/compiler/jit/xla_compilation_cache.cc:477] Compiled cluster using XLA!  This line is logged at most once for the lifetime of the process.\n"
     ]
    },
    {
     "name": "stdout",
     "output_type": "stream",
     "text": [
      "3/3 [==============================] - 3s 110ms/step - loss: -0.5237 - accuracy: 0.3542 - val_loss: -2.1920 - val_accuracy: 0.2917\n",
      "Epoch 2/50\n",
      "3/3 [==============================] - 0s 33ms/step - loss: -0.5533 - accuracy: 0.3542 - val_loss: -2.2454 - val_accuracy: 0.2917\n",
      "Epoch 3/50\n",
      "3/3 [==============================] - 0s 30ms/step - loss: -0.5825 - accuracy: 0.3542 - val_loss: -2.3030 - val_accuracy: 0.2917\n",
      "Epoch 4/50\n",
      "3/3 [==============================] - 0s 31ms/step - loss: -0.6167 - accuracy: 0.3542 - val_loss: -2.3535 - val_accuracy: 0.2917\n",
      "Epoch 5/50\n",
      "3/3 [==============================] - 0s 34ms/step - loss: -0.6434 - accuracy: 0.3542 - val_loss: -2.4107 - val_accuracy: 0.2917\n",
      "Epoch 6/50\n",
      "3/3 [==============================] - 0s 42ms/step - loss: -0.6765 - accuracy: 0.3542 - val_loss: -2.4654 - val_accuracy: 0.2917\n",
      "Epoch 7/50\n",
      "3/3 [==============================] - 0s 45ms/step - loss: -0.7037 - accuracy: 0.3542 - val_loss: -2.5234 - val_accuracy: 0.2917\n",
      "Epoch 8/50\n",
      "3/3 [==============================] - 0s 45ms/step - loss: -0.7368 - accuracy: 0.3542 - val_loss: -2.5801 - val_accuracy: 0.2917\n",
      "Epoch 9/50\n",
      "3/3 [==============================] - 0s 43ms/step - loss: -0.7715 - accuracy: 0.3542 - val_loss: -2.6338 - val_accuracy: 0.2917\n",
      "Epoch 10/50\n",
      "3/3 [==============================] - 0s 32ms/step - loss: -0.8013 - accuracy: 0.3542 - val_loss: -2.6910 - val_accuracy: 0.2917\n",
      "Epoch 11/50\n",
      "3/3 [==============================] - 0s 30ms/step - loss: -0.8335 - accuracy: 0.3542 - val_loss: -2.7473 - val_accuracy: 0.2917\n",
      "Epoch 12/50\n",
      "3/3 [==============================] - 0s 28ms/step - loss: -0.8651 - accuracy: 0.3542 - val_loss: -2.8045 - val_accuracy: 0.2917\n",
      "Epoch 13/50\n",
      "3/3 [==============================] - 0s 27ms/step - loss: -0.9001 - accuracy: 0.3542 - val_loss: -2.8602 - val_accuracy: 0.2917\n",
      "Epoch 14/50\n",
      "3/3 [==============================] - 0s 29ms/step - loss: -0.9312 - accuracy: 0.3542 - val_loss: -2.9181 - val_accuracy: 0.2917\n",
      "Epoch 15/50\n",
      "3/3 [==============================] - 0s 28ms/step - loss: -0.9615 - accuracy: 0.3542 - val_loss: -2.9759 - val_accuracy: 0.2917\n",
      "Epoch 16/50\n",
      "3/3 [==============================] - 0s 36ms/step - loss: -0.9903 - accuracy: 0.3542 - val_loss: -3.0349 - val_accuracy: 0.2917\n",
      "Epoch 17/50\n",
      "3/3 [==============================] - 0s 26ms/step - loss: -1.0209 - accuracy: 0.3542 - val_loss: -3.0906 - val_accuracy: 0.2917\n",
      "Epoch 18/50\n",
      "3/3 [==============================] - 0s 33ms/step - loss: -1.0500 - accuracy: 0.3542 - val_loss: -3.1446 - val_accuracy: 0.2917\n",
      "Epoch 19/50\n",
      "3/3 [==============================] - 0s 28ms/step - loss: -1.0785 - accuracy: 0.3542 - val_loss: -3.1976 - val_accuracy: 0.2917\n",
      "Epoch 20/50\n",
      "3/3 [==============================] - 0s 30ms/step - loss: -1.1072 - accuracy: 0.3542 - val_loss: -3.2493 - val_accuracy: 0.2917\n",
      "Epoch 21/50\n",
      "3/3 [==============================] - 0s 29ms/step - loss: -1.1316 - accuracy: 0.3542 - val_loss: -3.3038 - val_accuracy: 0.2917\n",
      "Epoch 22/50\n",
      "3/3 [==============================] - 0s 26ms/step - loss: -1.1624 - accuracy: 0.3542 - val_loss: -3.3543 - val_accuracy: 0.2917\n",
      "Epoch 23/50\n",
      "3/3 [==============================] - 0s 28ms/step - loss: -1.1877 - accuracy: 0.3542 - val_loss: -3.4082 - val_accuracy: 0.2917\n",
      "Epoch 24/50\n",
      "3/3 [==============================] - 0s 29ms/step - loss: -1.2170 - accuracy: 0.3542 - val_loss: -3.4600 - val_accuracy: 0.2917\n",
      "Epoch 25/50\n",
      "3/3 [==============================] - 0s 27ms/step - loss: -1.2453 - accuracy: 0.3542 - val_loss: -3.5096 - val_accuracy: 0.2917\n",
      "Epoch 26/50\n",
      "3/3 [==============================] - 0s 28ms/step - loss: -1.2716 - accuracy: 0.3542 - val_loss: -3.5595 - val_accuracy: 0.2917\n",
      "Epoch 27/50\n",
      "3/3 [==============================] - 0s 29ms/step - loss: -1.2953 - accuracy: 0.3542 - val_loss: -3.6111 - val_accuracy: 0.2917\n",
      "Epoch 28/50\n",
      "3/3 [==============================] - 0s 28ms/step - loss: -1.3200 - accuracy: 0.3542 - val_loss: -3.6629 - val_accuracy: 0.2917\n",
      "Epoch 29/50\n",
      "3/3 [==============================] - 0s 28ms/step - loss: -1.3454 - accuracy: 0.3542 - val_loss: -3.7122 - val_accuracy: 0.2917\n",
      "Epoch 30/50\n",
      "3/3 [==============================] - 0s 38ms/step - loss: -1.3725 - accuracy: 0.3542 - val_loss: -3.7560 - val_accuracy: 0.2917\n",
      "Epoch 31/50\n",
      "3/3 [==============================] - 0s 33ms/step - loss: -1.3950 - accuracy: 0.3542 - val_loss: -3.8029 - val_accuracy: 0.2917\n",
      "Epoch 32/50\n",
      "3/3 [==============================] - 0s 34ms/step - loss: -1.4209 - accuracy: 0.3542 - val_loss: -3.8507 - val_accuracy: 0.2917\n",
      "Epoch 33/50\n",
      "3/3 [==============================] - 0s 33ms/step - loss: -1.4454 - accuracy: 0.3542 - val_loss: -3.8982 - val_accuracy: 0.2917\n",
      "Epoch 34/50\n",
      "3/3 [==============================] - 0s 36ms/step - loss: -1.4727 - accuracy: 0.3542 - val_loss: -3.9437 - val_accuracy: 0.2917\n",
      "Epoch 35/50\n",
      "3/3 [==============================] - 0s 25ms/step - loss: -1.4958 - accuracy: 0.3542 - val_loss: -3.9935 - val_accuracy: 0.2917\n",
      "Epoch 36/50\n",
      "3/3 [==============================] - 0s 28ms/step - loss: -1.5222 - accuracy: 0.3542 - val_loss: -4.0427 - val_accuracy: 0.2917\n",
      "Epoch 37/50\n",
      "3/3 [==============================] - 0s 32ms/step - loss: -1.5501 - accuracy: 0.3542 - val_loss: -4.0907 - val_accuracy: 0.2917\n",
      "Epoch 38/50\n",
      "3/3 [==============================] - 0s 37ms/step - loss: -1.5758 - accuracy: 0.3542 - val_loss: -4.1400 - val_accuracy: 0.2917\n",
      "Epoch 39/50\n",
      "3/3 [==============================] - 0s 24ms/step - loss: -1.6042 - accuracy: 0.3542 - val_loss: -4.1861 - val_accuracy: 0.2917\n",
      "Epoch 40/50\n",
      "3/3 [==============================] - 0s 29ms/step - loss: -1.6286 - accuracy: 0.3542 - val_loss: -4.2384 - val_accuracy: 0.2917\n",
      "Epoch 41/50\n",
      "3/3 [==============================] - 0s 26ms/step - loss: -1.6573 - accuracy: 0.3542 - val_loss: -4.2881 - val_accuracy: 0.2917\n",
      "Epoch 42/50\n",
      "3/3 [==============================] - 0s 26ms/step - loss: -1.6852 - accuracy: 0.3542 - val_loss: -4.3381 - val_accuracy: 0.2917\n",
      "Epoch 43/50\n",
      "3/3 [==============================] - 0s 25ms/step - loss: -1.7110 - accuracy: 0.3542 - val_loss: -4.3929 - val_accuracy: 0.2917\n",
      "Epoch 44/50\n",
      "3/3 [==============================] - 0s 27ms/step - loss: -1.7418 - accuracy: 0.3542 - val_loss: -4.4430 - val_accuracy: 0.2917\n",
      "Epoch 45/50\n",
      "3/3 [==============================] - 0s 26ms/step - loss: -1.7693 - accuracy: 0.3542 - val_loss: -4.4939 - val_accuracy: 0.2917\n",
      "Epoch 46/50\n",
      "3/3 [==============================] - 0s 25ms/step - loss: -1.7977 - accuracy: 0.3542 - val_loss: -4.5488 - val_accuracy: 0.2917\n",
      "Epoch 47/50\n",
      "3/3 [==============================] - 0s 28ms/step - loss: -1.8265 - accuracy: 0.3542 - val_loss: -4.6042 - val_accuracy: 0.2917\n",
      "Epoch 48/50\n",
      "3/3 [==============================] - 0s 35ms/step - loss: -1.8564 - accuracy: 0.3542 - val_loss: -4.6585 - val_accuracy: 0.2917\n",
      "Epoch 49/50\n",
      "3/3 [==============================] - 0s 33ms/step - loss: -1.8870 - accuracy: 0.3542 - val_loss: -4.7126 - val_accuracy: 0.2917\n",
      "Epoch 50/50\n",
      "3/3 [==============================] - 0s 28ms/step - loss: -1.9182 - accuracy: 0.3542 - val_loss: -4.7619 - val_accuracy: 0.2917\n"
     ]
    }
   ],
   "source": [
    "history = model.fit(X_train, y_train, epochs=50, validation_split=0.2)"
   ]
  },
  {
   "cell_type": "markdown",
   "id": "98a94cac",
   "metadata": {},
   "source": [
    "# Model Evaluation\n",
    "- print the test accuracy of our model"
   ]
  },
  {
   "cell_type": "code",
   "execution_count": 5,
   "id": "a3a4038f",
   "metadata": {},
   "outputs": [
    {
     "name": "stdout",
     "output_type": "stream",
     "text": [
      "1/1 [==============================] - 0s 37ms/step - loss: -3.0340 - accuracy: 0.3000\n",
      "Test accuracy: 0.30000001192092896\n"
     ]
    }
   ],
   "source": [
    "test_loss, test_acc = model.evaluate(X_test, y_test)\n",
    "print('Test accuracy:', test_acc)"
   ]
  },
  {
   "cell_type": "code",
   "execution_count": 6,
   "id": "fb87b0e7",
   "metadata": {},
   "outputs": [
    {
     "name": "stdout",
     "output_type": "stream",
     "text": [
      "1/1 [==============================] - 0s 98ms/step\n"
     ]
    },
    {
     "data": {
      "image/png": "[encoded data removed]",
      "text/plain": [
       "<Figure size 640x480 with 2 Axes>"
      ]
     },
     "metadata": {},
     "output_type": "display_data"
    }
   ],
   "source": [
    "from sklearn.metrics import confusion_matrix\n",
    "import matplotlib.pyplot as plt\n",
    "import seaborn as sns\n",
    "import numpy as np\n",
    "# Make predictions on the test set\n",
    "y_pred = model.predict(X_test)\n",
    "y_pred_classes = [1 if pred > 0.5 else 0 for pred in y_pred]\n",
    "\n",
    "# Generate a confusion matrix\n",
    "cm = confusion_matrix(y_test, y_pred_classes)\n",
    "\n",
    "# Plot the confusion matrix\n",
    "sns.heatmap(cm, annot=True, cmap=\"Blues\")\n",
    "plt.show()"
   ]
  },
  {
   "cell_type": "code",
   "execution_count": null,
   "id": "703ae4c9",
   "metadata": {},
   "outputs": [],
   "source": [
    "from sklearn.metrics import confusion_matrix\n",
    "\n",
    "y_pred = model.predict(X_test)\n",
    "y_pred = (y_pred > 0.5).astype(int)\n",
    "cm = confusion_matrix(y_test, y_pred)\n",
    "print(cm)"
   ]
  }
 ],
 "metadata": {
  "kernelspec": {
   "display_name": "Python 3 (ipykernel)",
   "language": "python",
   "name": "python3"
  },
  "language_info": {
   "codemirror_mode": {
    "name": "ipython",
    "version": 3
   },
   "file_extension": ".py",
   "mimetype": "text/x-python",
   "name": "python",
   "nbconvert_exporter": "python",
   "pygments_lexer": "ipython3",
   "version": "3.8.10"
  }
 },
 "nbformat": 4,
 "nbformat_minor": 5
}
