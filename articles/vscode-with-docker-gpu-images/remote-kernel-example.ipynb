{
 "cells": [
  {
   "cell_type": "code",
   "execution_count": 1,
   "metadata": {},
   "outputs": [
    {
     "name": "stderr",
     "output_type": "stream",
     "text": [
      "2023-05-11 06:25:38.357646: I tensorflow/core/platform/cpu_feature_guard.cc:182] This TensorFlow binary is optimized to use available CPU instructions in performance-critical operations.\n",
      "To enable the following instructions: AVX2 FMA, in other operations, rebuild TensorFlow with the appropriate compiler flags.\n"
     ]
    },
    {
     "name": "stdout",
     "output_type": "stream",
     "text": [
      "Polars Version: 0.16.14\n",
      "scikit-learn Version: 1.2.2\n",
      "scipy Version: 1.9.1\n",
      "pandas Version: 1.5.3\n",
      "matplotlib Version: 3.7.1\n",
      "Tensor Flow Version: 2.12.0\n",
      "Keras Version: 2.12.0\n",
      "GPU is available\n"
     ]
    },
    {
     "name": "stderr",
     "output_type": "stream",
     "text": [
      "2023-05-11 06:25:58.443113: I tensorflow/compiler/xla/stream_executor/cuda/cuda_gpu_executor.cc:982] could not open file to read NUMA node: /sys/bus/pci/devices/0000:41:00.0/numa_node\n",
      "Your kernel may have been built without NUMA support.\n",
      "2023-05-11 06:25:58.680849: I tensorflow/compiler/xla/stream_executor/cuda/cuda_gpu_executor.cc:982] could not open file to read NUMA node: /sys/bus/pci/devices/0000:41:00.0/numa_node\n",
      "Your kernel may have been built without NUMA support.\n",
      "2023-05-11 06:25:58.681823: I tensorflow/compiler/xla/stream_executor/cuda/cuda_gpu_executor.cc:982] could not open file to read NUMA node: /sys/bus/pci/devices/0000:41:00.0/numa_node\n",
      "Your kernel may have been built without NUMA support.\n"
     ]
    }
   ],
   "source": [
    "import warnings\n",
    "warnings.filterwarnings('ignore')\n",
    "\n",
    "import polars as pl\n",
    "import sklearn as sklearn\n",
    "import scipy as scipy\n",
    "import pandas as pd\n",
    "import matplotlib\n",
    "import matplotlib.pyplot as plt\n",
    "import sys\n",
    "import tensorflow.keras as keras\n",
    "import tensorflow as tf\n",
    "print(f\"Polars Version: {pl.__version__}\")\n",
    "print(f\"scikit-learn Version: {sklearn.__version__}\")\n",
    "print(f\"scipy Version: {scipy.__version__}\")\n",
    "print(f\"pandas Version: {pd.__version__}\")\n",
    "print(f\"matplotlib Version: {matplotlib.__version__}\")\n",
    "print(f\"Tensor Flow Version: {tf.__version__}\")\n",
    "print(f\"Keras Version: {keras.__version__}\")\n",
    "gpu = len(tf.config.list_physical_devices('GPU'))>0\n",
    "print(\"GPU is\", \"available\" if gpu else \"NOT AVAILABLE\")"
   ]
  }
 ],
 "metadata": {
  "kernelspec": {
   "display_name": "Python 3 (ipykernel)",
   "language": "python",
   "name": "python3"
  },
  "orig_nbformat": 4
 },
 "nbformat": 4,
 "nbformat_minor": 2
}
