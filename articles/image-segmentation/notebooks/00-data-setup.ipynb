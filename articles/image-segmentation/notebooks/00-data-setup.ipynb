{
 "cells": [
  {
   "cell_type": "code",
   "execution_count": 7,
   "metadata": {},
   "outputs": [],
   "source": [
    "import os\n",
    "import re"
   ]
  },
  {
   "cell_type": "code",
   "execution_count": 8,
   "metadata": {},
   "outputs": [
    {
     "name": "stdout",
     "output_type": "stream",
     "text": [
      "['test (1).jpg', 'test (1).json', 'test (10).jpg', 'test (100).jpg', 'test (101).jpg', 'test (102).jpg', 'test (103).jpg', 'test (104).jpg', 'test (105).jpg', 'test (106).jpg', 'test (107).jpg', 'test (108).jpg', 'test (109).jpg', 'test (11).jpg', 'test (110).jpg', 'test (111).jpg', 'test (112).jpg', 'test (113).jpg', 'test (114).jpg', 'test (115).jpg', 'test (116).jpg', 'test (117).jpg', 'test (118).jpg', 'test (119).jpg', 'test (12).jpg', 'test (13).jpg', 'test (14).jpg', 'test (15).jpg', 'test (16).jpg', 'test (17).jpg', 'test (18).jpg', 'test (19).jpg', 'test (2).jpg', 'test (2).json', 'test (20).jpg', 'test (21).jpg', 'test (22).jpg', 'test (23).jpg', 'test (24).jpg', 'test (25).jpg', 'test (26).jpg', 'test (27).jpg', 'test (28).jpg', 'test (29).jpg', 'test (3).jpg', 'test (3).json', 'test (30).jpg', 'test (31).jpg', 'test (32).jpg', 'test (33).jpg', 'test (34).jpg', 'test (35).jpg', 'test (36).jpg', 'test (37).jpg', 'test (38).jpg', 'test (39).jpg', 'test (4).jpg', 'test (4).json', 'test (40).jpg', 'test (41).jpg', 'test (42).jpg', 'test (43).jpg', 'test (44).jpg', 'test (45).jpg', 'test (46).jpg', 'test (47).jpg', 'test (48).jpg', 'test (49).jpg', 'test (5).jpg', 'test (5).json', 'test (50).jpg', 'test (51).jpg', 'test (52).jpg', 'test (53).jpg', 'test (54).jpg', 'test (55).jpg', 'test (56).jpg', 'test (57).jpg', 'test (58).jpg', 'test (59).jpg', 'test (6).jpg', 'test (6).json', 'test (60).jpg', 'test (61).jpg', 'test (62).jpg', 'test (63).jpg', 'test (64).jpg', 'test (65).jpg', 'test (66).jpg', 'test (67).jpg', 'test (68).jpg', 'test (69).jpg', 'test (7).jpg', 'test (70).jpg', 'test (71).jpg', 'test (72).jpg', 'test (73).jpg', 'test (74).jpg', 'test (75).jpg', 'test (76).jpg', 'test (77).jpg', 'test (78).jpg', 'test (79).jpg', 'test (8).jpg', 'test (80).jpg', 'test (81).jpg', 'test (82).jpg', 'test (83).jpg', 'test (84).jpg', 'test (85).jpg', 'test (86).jpg', 'test (87).jpg', 'test (88).jpg', 'test (89).jpg', 'test (9).jpg', 'test (90).jpg', 'test (91).jpg', 'test (92).jpg', 'test (93).jpg', 'test (94).jpg', 'test (95).jpg', 'test (96).jpg', 'test (97).jpg', 'test (98).jpg', 'test (99).jpg']\n",
      "All Files Renamed\n",
      "['smartphone_1.jpg', 'smartphone_10.jpg', 'smartphone_100.jpg', 'smartphone_101.jpg', 'smartphone_102.jpg', 'smartphone_103.jpg', 'smartphone_104.jpg', 'smartphone_105.jpg', 'smartphone_106.jpg', 'smartphone_107.jpg', 'smartphone_108.jpg', 'smartphone_109.jpg', 'smartphone_11.jpg', 'smartphone_110.jpg', 'smartphone_111.jpg', 'smartphone_112.jpg', 'smartphone_113.jpg', 'smartphone_114.jpg', 'smartphone_115.jpg', 'smartphone_116.jpg', 'smartphone_117.jpg', 'smartphone_118.jpg', 'smartphone_119.jpg', 'smartphone_12.jpg', 'smartphone_120.jpg', 'smartphone_121.jpg', 'smartphone_122.jpg', 'smartphone_123.jpg', 'smartphone_124.jpg', 'smartphone_125.jpg', 'smartphone_13.jpg', 'smartphone_14.jpg', 'smartphone_15.jpg', 'smartphone_16.jpg', 'smartphone_17.jpg', 'smartphone_18.jpg', 'smartphone_19.jpg', 'smartphone_2.jpg', 'smartphone_20.jpg', 'smartphone_21.jpg', 'smartphone_22.jpg', 'smartphone_23.jpg', 'smartphone_24.jpg', 'smartphone_25.jpg', 'smartphone_26.jpg', 'smartphone_27.jpg', 'smartphone_28.jpg', 'smartphone_29.jpg', 'smartphone_3.jpg', 'smartphone_30.jpg', 'smartphone_31.jpg', 'smartphone_32.jpg', 'smartphone_33.jpg', 'smartphone_34.jpg', 'smartphone_35.jpg', 'smartphone_36.jpg', 'smartphone_37.jpg', 'smartphone_38.jpg', 'smartphone_39.jpg', 'smartphone_4.jpg', 'smartphone_40.jpg', 'smartphone_41.jpg', 'smartphone_42.jpg', 'smartphone_43.jpg', 'smartphone_44.jpg', 'smartphone_45.jpg', 'smartphone_46.jpg', 'smartphone_47.jpg', 'smartphone_48.jpg', 'smartphone_49.jpg', 'smartphone_5.jpg', 'smartphone_50.jpg', 'smartphone_51.jpg', 'smartphone_52.jpg', 'smartphone_53.jpg', 'smartphone_54.jpg', 'smartphone_55.jpg', 'smartphone_56.jpg', 'smartphone_57.jpg', 'smartphone_58.jpg', 'smartphone_59.jpg', 'smartphone_6.jpg', 'smartphone_60.jpg', 'smartphone_61.jpg', 'smartphone_62.jpg', 'smartphone_63.jpg', 'smartphone_64.jpg', 'smartphone_65.jpg', 'smartphone_66.jpg', 'smartphone_67.jpg', 'smartphone_68.jpg', 'smartphone_69.jpg', 'smartphone_7.jpg', 'smartphone_70.jpg', 'smartphone_71.jpg', 'smartphone_72.jpg', 'smartphone_73.jpg', 'smartphone_74.jpg', 'smartphone_75.jpg', 'smartphone_76.jpg', 'smartphone_77.jpg', 'smartphone_78.jpg', 'smartphone_79.jpg', 'smartphone_8.jpg', 'smartphone_80.jpg', 'smartphone_81.jpg', 'smartphone_82.jpg', 'smartphone_83.jpg', 'smartphone_84.jpg', 'smartphone_85.jpg', 'smartphone_86.jpg', 'smartphone_87.jpg', 'smartphone_88.jpg', 'smartphone_89.jpg', 'smartphone_9.jpg', 'smartphone_90.jpg', 'smartphone_91.jpg', 'smartphone_92.jpg', 'smartphone_93.jpg', 'smartphone_94.jpg', 'smartphone_95.jpg', 'smartphone_96.jpg', 'smartphone_97.jpg', 'smartphone_98.jpg', 'smartphone_99.jpg']\n"
     ]
    }
   ],
   "source": [
    "dir_list = os.listdir('../data/')\n",
    "print(dir_list)\n",
    "counter = 1\n",
    "for file in dir_list:\n",
    "    source = '../data/' + file\n",
    "    destination = '../data/' + \"smartphone_\" + str(counter) + \".jpg\"\n",
    "    os.rename(source, destination)\n",
    "    counter += 1\n",
    "print('All Files Renamed')\n",
    "print(os.listdir('../data/'))\n"
   ]
  }
 ],
 "metadata": {
  "kernelspec": {
   "display_name": "image-segmentation (Python 3.9)",
   "language": "python",
   "name": "image-segmentation"
  },
  "language_info": {
   "codemirror_mode": {
    "name": "ipython",
    "version": 3
   },
   "file_extension": ".py",
   "mimetype": "text/x-python",
   "name": "python",
   "nbconvert_exporter": "python",
   "pygments_lexer": "ipython3",
   "version": "3.9.16"
  },
  "orig_nbformat": 4
 },
 "nbformat": 4,
 "nbformat_minor": 2
}
