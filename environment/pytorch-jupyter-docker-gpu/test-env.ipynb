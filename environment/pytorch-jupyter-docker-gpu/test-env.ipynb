{
 "cells": [
  {
   "cell_type": "code",
   "execution_count": null,
   "metadata": {},
   "outputs": [],
   "source": [
    "import warnings\n",
    "warnings.filterwarnings('ignore')\n",
    "\n",
    "import polars as pl\n",
    "import sklearn as sklearn\n",
    "import scipy as scipy\n",
    "import pandas as pd\n",
    "import matplotlib\n",
    "import matplotlib.pyplot as plt\n",
    "import sys\n",
    "import torch as pytorch\n",
    "import cv2 as opencv\n",
    "print(f\"Polars Version: {pl.__version__}\")\n",
    "print(f\"scikit-learn Version: {sklearn.__version__}\")\n",
    "print(f\"scipy Version: {scipy.__version__}\")\n",
    "print(f\"pandas Version: {pd.__version__}\")\n",
    "print(f\"matplotlib Version: {matplotlib.__version__}\")\n",
    "print(f\"PyTorch Version: {pytorch.__version__}\")\n",
    "print(f\"OpenCV Version: {opencv.__version__}\")\n",
    "gpu = pytorch.cuda.is_available()\n",
    "print(\"GPU is\", \"available\" if gpu else \"NOT AVAILABLE\")"
   ]
  }
 ],
 "metadata": {
  "kernelspec": {
   "display_name": "base",
   "language": "python",
   "name": "python3"
  },
  "language_info": {
   "name": "python",
   "version": "3.10.8 | packaged by conda-forge | (main, Nov 24 2022, 14:07:00) [MSC v.1916 64 bit (AMD64)]"
  },
  "orig_nbformat": 4,
  "vscode": {
   "interpreter": {
    "hash": "0ccfd9746b7899ef0ee3df2fd5b69b50db817050fec3947d60a3b709ac4d89c4"
   }
  }
 },
 "nbformat": 4,
 "nbformat_minor": 2
}
